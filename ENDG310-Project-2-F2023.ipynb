{
 "cells": [
  {
   "cell_type": "markdown",
   "metadata": {},
   "source": [
    "# ENDG 310 Project #2\n",
    "\n",
    "## Creating and Interacting with a Simulation\n",
    "\n",
    "### Due Friday, November 10th at 5pm via github.  This project may be submitted by 5pm on November 24th with a 5% penalty.\n",
    "\n",
    "In this project, you will work in groups of two or three to create an **interactive** physics-based simulator of a system of your choice.  The simulation should describe a simple system and allow for some form basic user interaction.  You may choose any type of system, but some suggested simulations include:\n",
    "- A simplified version of `Angry Birds` where the simulator will calculate and show ballistic trajectors for projectiles (i.e., birds).\n",
    "- A simple orbital simulation using Newtonian Mechanics to simulate the trajectory of a space craft (or asteroid) travelling between planets orbitting a sun.\n",
    "- A simple economic simulation of demand and supply of widgets (generic consumable objects) or similar.\n",
    "- A watershed simulator that describes the annual water cycle with snow, melt, river flows and potentially a water reservoir.\n",
    "\n",
    "Your simulation must have a set of fundamental equations describing the interaction between different aspects of your system.  You should describe the equations you use in either the `README.md` file or in an annotated Python notebook.\n",
    "\n",
    "There must be some form of interaction with the simulation that allows a user to influence the simulation (ie, shoot a projectile, launch a space craft, etc).  This can be done by calling a function, via the command line, or using your keyboard or mouse.\n",
    "\n",
    "## Some useful resources\n",
    "- A tutorial on developing simple games with Python: https://towardsdatascience.com/making-simple-games-in-python-f35f3ae6f31a\n",
    "- Using SimPy to make simulations in Python: https://realpython.com/simpy-simulating-with-python/\n",
    "- Developing a Python game: https://towardsdatascience.com/building-simulations-in-python-a-complete-walkthrough-3965b2d3ede0 \n",
    "\n",
    "## Requirements\n",
    "- You may use .py files, however, you must must use an annotated Notebook to explain your workflow.  You must write out and describe all equations used.\n",
    "- Your final submission must be uploaded to git.\n",
    "- The README.md file should provide short description of your simulator and should include several (at least one) screenshot or plot demonstrating operation.\n",
    "- You may use any online resource for inspiration, however, you must cite all sources used outside of the course notes and Think Python textbook.\n",
    "- If you use ChatGPT, you must include the fundamental inputs used to generate output in ChatGPT as part of your `.ipynb` file.\n",
    "- The `README.md` file should be populated with a basic description of your project (ie, visual abstract).\n",
    "- You must describe the contribution of each team member in the `README.md` file.  Each team member must contribute to and commit to the github project.\n",
    "\n",
    "\n",
    "## Rubric\n",
    "To get a 70/100 on this project, you must:\n",
    "- Describe and implement the physics of your simulation.\n",
    "- Provide suffient static plots or figures to demonstrate the functionality of your simulation.\n",
    "\n",
    "To get an 80/100 on this project, you must, in addition to the requirements above:\n",
    "- Allow for user interaction with the simulation via function calls (for example, sim.launch(10,15) to launch a 10 lb object at 15 degrees)\n",
    "\n",
    "To get an 90/100 on this project, you must, in addition to the requirements for a 70/100:\n",
    "- Allow for user interaction with the simulation via an interactive text based system (for example typing text via a command prompt or text input in a continuous loop)\n",
    "\n",
    "To get 100/100 on this project, you must, in addition to the requirements above:\n",
    "- Allow for user interaction via a keyboard or mouse and an interactive figure or website."
   ]
  },
  {
   "cell_type": "code",
   "execution_count": null,
   "metadata": {},
   "outputs": [],
   "source": []
  }
 ],
 "metadata": {
  "kernelspec": {
   "display_name": "Python 3",
   "language": "python",
   "name": "python3"
  },
  "language_info": {
   "codemirror_mode": {
    "name": "ipython",
    "version": 3
   },
   "file_extension": ".py",
   "mimetype": "text/x-python",
   "name": "python",
   "nbconvert_exporter": "python",
   "pygments_lexer": "ipython3",
   "version": "3.8.3"
  }
 },
 "nbformat": 4,
 "nbformat_minor": 2
}
